{
 "cells": [
  {
   "cell_type": "code",
   "id": "initial_id",
   "metadata": {
    "collapsed": true,
    "ExecuteTime": {
     "end_time": "2024-10-01T15:36:25.378102Z",
     "start_time": "2024-10-01T15:36:25.375649Z"
    }
   },
   "source": [
    "import pickle\n",
    "import pandas as pd\n",
    "from sklearn.preprocessing import StandardScaler, OneHotEncoder"
   ],
   "outputs": [],
   "execution_count": 10
  },
  {
   "metadata": {
    "ExecuteTime": {
     "end_time": "2024-10-01T15:36:25.976473Z",
     "start_time": "2024-10-01T15:36:25.974471Z"
    }
   },
   "cell_type": "code",
   "source": "BASE_DIR = '/home/breno/PycharmProjects/customer-churn-classificator/resources'",
   "id": "dfec20db1f8eec97",
   "outputs": [],
   "execution_count": 11
  },
  {
   "metadata": {
    "ExecuteTime": {
     "end_time": "2024-10-01T15:36:27.324806Z",
     "start_time": "2024-10-01T15:36:27.126440Z"
    }
   },
   "cell_type": "code",
   "source": [
    "df = pd.read_csv(f'{BASE_DIR}/input/customer_churn_dataset.csv')\n",
    "df = df.drop('CustomerID', axis=1)"
   ],
   "id": "feeb708e1cfa92d4",
   "outputs": [],
   "execution_count": 12
  },
  {
   "metadata": {
    "ExecuteTime": {
     "end_time": "2024-10-01T15:36:52.884311Z",
     "start_time": "2024-10-01T15:36:52.874417Z"
    }
   },
   "cell_type": "code",
   "source": "df",
   "id": "147a3f70f193601",
   "outputs": [
    {
     "data": {
      "text/plain": [
       "         Age  Gender  Tenure  Usage Frequency  Support Calls  Payment Delay  \\\n",
       "0       30.0  Female    39.0             14.0            5.0           18.0   \n",
       "1       65.0  Female    49.0              1.0           10.0            8.0   \n",
       "2       55.0  Female    14.0              4.0            6.0           18.0   \n",
       "3       58.0    Male    38.0             21.0            7.0            7.0   \n",
       "4       23.0    Male    32.0             20.0            5.0            8.0   \n",
       "...      ...     ...     ...              ...            ...            ...   \n",
       "440828  42.0    Male    54.0             15.0            1.0            3.0   \n",
       "440829  25.0  Female     8.0             13.0            1.0           20.0   \n",
       "440830  26.0    Male    35.0             27.0            1.0            5.0   \n",
       "440831  28.0    Male    55.0             14.0            2.0            0.0   \n",
       "440832  31.0    Male    48.0             20.0            1.0           14.0   \n",
       "\n",
       "       Subscription Type Contract Length  Total Spend  Last Interaction  Churn  \n",
       "0               Standard          Annual       932.00              17.0    1.0  \n",
       "1                  Basic         Monthly       557.00               6.0    1.0  \n",
       "2                  Basic       Quarterly       185.00               3.0    1.0  \n",
       "3               Standard         Monthly       396.00              29.0    1.0  \n",
       "4                  Basic         Monthly       617.00              20.0    1.0  \n",
       "...                  ...             ...          ...               ...    ...  \n",
       "440828           Premium          Annual       716.38               8.0    0.0  \n",
       "440829           Premium          Annual       745.38               2.0    0.0  \n",
       "440830          Standard       Quarterly       977.31               9.0    0.0  \n",
       "440831          Standard       Quarterly       602.55               2.0    0.0  \n",
       "440832           Premium       Quarterly       567.77              21.0    0.0  \n",
       "\n",
       "[440833 rows x 11 columns]"
      ],
      "text/html": [
       "<div>\n",
       "<style scoped>\n",
       "    .dataframe tbody tr th:only-of-type {\n",
       "        vertical-align: middle;\n",
       "    }\n",
       "\n",
       "    .dataframe tbody tr th {\n",
       "        vertical-align: top;\n",
       "    }\n",
       "\n",
       "    .dataframe thead th {\n",
       "        text-align: right;\n",
       "    }\n",
       "</style>\n",
       "<table border=\"1\" class=\"dataframe\">\n",
       "  <thead>\n",
       "    <tr style=\"text-align: right;\">\n",
       "      <th></th>\n",
       "      <th>Age</th>\n",
       "      <th>Gender</th>\n",
       "      <th>Tenure</th>\n",
       "      <th>Usage Frequency</th>\n",
       "      <th>Support Calls</th>\n",
       "      <th>Payment Delay</th>\n",
       "      <th>Subscription Type</th>\n",
       "      <th>Contract Length</th>\n",
       "      <th>Total Spend</th>\n",
       "      <th>Last Interaction</th>\n",
       "      <th>Churn</th>\n",
       "    </tr>\n",
       "  </thead>\n",
       "  <tbody>\n",
       "    <tr>\n",
       "      <th>0</th>\n",
       "      <td>30.0</td>\n",
       "      <td>Female</td>\n",
       "      <td>39.0</td>\n",
       "      <td>14.0</td>\n",
       "      <td>5.0</td>\n",
       "      <td>18.0</td>\n",
       "      <td>Standard</td>\n",
       "      <td>Annual</td>\n",
       "      <td>932.00</td>\n",
       "      <td>17.0</td>\n",
       "      <td>1.0</td>\n",
       "    </tr>\n",
       "    <tr>\n",
       "      <th>1</th>\n",
       "      <td>65.0</td>\n",
       "      <td>Female</td>\n",
       "      <td>49.0</td>\n",
       "      <td>1.0</td>\n",
       "      <td>10.0</td>\n",
       "      <td>8.0</td>\n",
       "      <td>Basic</td>\n",
       "      <td>Monthly</td>\n",
       "      <td>557.00</td>\n",
       "      <td>6.0</td>\n",
       "      <td>1.0</td>\n",
       "    </tr>\n",
       "    <tr>\n",
       "      <th>2</th>\n",
       "      <td>55.0</td>\n",
       "      <td>Female</td>\n",
       "      <td>14.0</td>\n",
       "      <td>4.0</td>\n",
       "      <td>6.0</td>\n",
       "      <td>18.0</td>\n",
       "      <td>Basic</td>\n",
       "      <td>Quarterly</td>\n",
       "      <td>185.00</td>\n",
       "      <td>3.0</td>\n",
       "      <td>1.0</td>\n",
       "    </tr>\n",
       "    <tr>\n",
       "      <th>3</th>\n",
       "      <td>58.0</td>\n",
       "      <td>Male</td>\n",
       "      <td>38.0</td>\n",
       "      <td>21.0</td>\n",
       "      <td>7.0</td>\n",
       "      <td>7.0</td>\n",
       "      <td>Standard</td>\n",
       "      <td>Monthly</td>\n",
       "      <td>396.00</td>\n",
       "      <td>29.0</td>\n",
       "      <td>1.0</td>\n",
       "    </tr>\n",
       "    <tr>\n",
       "      <th>4</th>\n",
       "      <td>23.0</td>\n",
       "      <td>Male</td>\n",
       "      <td>32.0</td>\n",
       "      <td>20.0</td>\n",
       "      <td>5.0</td>\n",
       "      <td>8.0</td>\n",
       "      <td>Basic</td>\n",
       "      <td>Monthly</td>\n",
       "      <td>617.00</td>\n",
       "      <td>20.0</td>\n",
       "      <td>1.0</td>\n",
       "    </tr>\n",
       "    <tr>\n",
       "      <th>...</th>\n",
       "      <td>...</td>\n",
       "      <td>...</td>\n",
       "      <td>...</td>\n",
       "      <td>...</td>\n",
       "      <td>...</td>\n",
       "      <td>...</td>\n",
       "      <td>...</td>\n",
       "      <td>...</td>\n",
       "      <td>...</td>\n",
       "      <td>...</td>\n",
       "      <td>...</td>\n",
       "    </tr>\n",
       "    <tr>\n",
       "      <th>440828</th>\n",
       "      <td>42.0</td>\n",
       "      <td>Male</td>\n",
       "      <td>54.0</td>\n",
       "      <td>15.0</td>\n",
       "      <td>1.0</td>\n",
       "      <td>3.0</td>\n",
       "      <td>Premium</td>\n",
       "      <td>Annual</td>\n",
       "      <td>716.38</td>\n",
       "      <td>8.0</td>\n",
       "      <td>0.0</td>\n",
       "    </tr>\n",
       "    <tr>\n",
       "      <th>440829</th>\n",
       "      <td>25.0</td>\n",
       "      <td>Female</td>\n",
       "      <td>8.0</td>\n",
       "      <td>13.0</td>\n",
       "      <td>1.0</td>\n",
       "      <td>20.0</td>\n",
       "      <td>Premium</td>\n",
       "      <td>Annual</td>\n",
       "      <td>745.38</td>\n",
       "      <td>2.0</td>\n",
       "      <td>0.0</td>\n",
       "    </tr>\n",
       "    <tr>\n",
       "      <th>440830</th>\n",
       "      <td>26.0</td>\n",
       "      <td>Male</td>\n",
       "      <td>35.0</td>\n",
       "      <td>27.0</td>\n",
       "      <td>1.0</td>\n",
       "      <td>5.0</td>\n",
       "      <td>Standard</td>\n",
       "      <td>Quarterly</td>\n",
       "      <td>977.31</td>\n",
       "      <td>9.0</td>\n",
       "      <td>0.0</td>\n",
       "    </tr>\n",
       "    <tr>\n",
       "      <th>440831</th>\n",
       "      <td>28.0</td>\n",
       "      <td>Male</td>\n",
       "      <td>55.0</td>\n",
       "      <td>14.0</td>\n",
       "      <td>2.0</td>\n",
       "      <td>0.0</td>\n",
       "      <td>Standard</td>\n",
       "      <td>Quarterly</td>\n",
       "      <td>602.55</td>\n",
       "      <td>2.0</td>\n",
       "      <td>0.0</td>\n",
       "    </tr>\n",
       "    <tr>\n",
       "      <th>440832</th>\n",
       "      <td>31.0</td>\n",
       "      <td>Male</td>\n",
       "      <td>48.0</td>\n",
       "      <td>20.0</td>\n",
       "      <td>1.0</td>\n",
       "      <td>14.0</td>\n",
       "      <td>Premium</td>\n",
       "      <td>Quarterly</td>\n",
       "      <td>567.77</td>\n",
       "      <td>21.0</td>\n",
       "      <td>0.0</td>\n",
       "    </tr>\n",
       "  </tbody>\n",
       "</table>\n",
       "<p>440833 rows × 11 columns</p>\n",
       "</div>"
      ]
     },
     "execution_count": 13,
     "metadata": {},
     "output_type": "execute_result"
    }
   ],
   "execution_count": 13
  },
  {
   "metadata": {},
   "cell_type": "markdown",
   "source": "## One Hot Encoding",
   "id": "5e6f295814e466da"
  },
  {
   "metadata": {
    "ExecuteTime": {
     "end_time": "2024-10-01T15:37:17.666184Z",
     "start_time": "2024-10-01T15:37:17.478965Z"
    }
   },
   "cell_type": "code",
   "source": [
    "categorical_columns = ['Gender', 'Subscription Type', 'Contract Length']\n",
    "ohe = OneHotEncoder(handle_unknown='ignore', sparse_output=False)\n",
    "df_encoded = ohe.fit_transform(df[categorical_columns])\n",
    "df_encoded = pd.DataFrame(df_encoded, columns=ohe.get_feature_names_out(categorical_columns))\n",
    "df = pd.concat([df.drop(columns=categorical_columns), df_encoded], axis=1)\n",
    "\n",
    "with open(f'{BASE_DIR}/models/one_hot_encoder.pkl', 'wb') as f:\n",
    "    pickle.dump(ohe, f)\n"
   ],
   "id": "4f5895f210330562",
   "outputs": [],
   "execution_count": 15
  },
  {
   "metadata": {},
   "cell_type": "markdown",
   "source": "## Normalização",
   "id": "e10fe477bead72f4"
  },
  {
   "metadata": {
    "ExecuteTime": {
     "end_time": "2024-10-01T15:37:21.499473Z",
     "start_time": "2024-10-01T15:37:21.447739Z"
    }
   },
   "cell_type": "code",
   "source": [
    "numeric_columns = ['Age', 'Tenure', 'Usage Frequency', 'Support Calls', 'Payment Delay', 'Total Spend', 'Last Interaction']\n",
    "scaler = StandardScaler()\n",
    "df[numeric_columns] = scaler.fit_transform(df[numeric_columns])\n",
    "\n",
    "with open(f'{BASE_DIR}/models/standard_scaler.pkl', 'wb') as f:\n",
    "    pickle.dump(scaler, f)"
   ],
   "id": "c5bd114e3cfa0e38",
   "outputs": [],
   "execution_count": 16
  },
  {
   "metadata": {},
   "cell_type": "markdown",
   "source": "## Save",
   "id": "6b13a7a685154cbc"
  },
  {
   "metadata": {
    "ExecuteTime": {
     "end_time": "2024-10-01T15:37:26.526580Z",
     "start_time": "2024-10-01T15:37:23.457861Z"
    }
   },
   "cell_type": "code",
   "source": "df.to_csv(f'{BASE_DIR}/output/prepared_data.csv', index=False)",
   "id": "a4fb7e65842a1e27",
   "outputs": [],
   "execution_count": 17
  }
 ],
 "metadata": {
  "kernelspec": {
   "display_name": "Python 3",
   "language": "python",
   "name": "python3"
  },
  "language_info": {
   "codemirror_mode": {
    "name": "ipython",
    "version": 2
   },
   "file_extension": ".py",
   "mimetype": "text/x-python",
   "name": "python",
   "nbconvert_exporter": "python",
   "pygments_lexer": "ipython2",
   "version": "2.7.6"
  }
 },
 "nbformat": 4,
 "nbformat_minor": 5
}
